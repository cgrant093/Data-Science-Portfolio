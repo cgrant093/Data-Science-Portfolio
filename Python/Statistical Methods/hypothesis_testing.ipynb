{
 "cells": [
  {
   "cell_type": "markdown",
   "id": "0b38ec63",
   "metadata": {},
   "source": [
    "# Hypothesis Testing"
   ]
  },
  {
   "cell_type": "markdown",
   "id": "6c850b8b",
   "metadata": {},
   "source": [
    "#### Import necessary dependencies"
   ]
  },
  {
   "cell_type": "code",
   "execution_count": 1,
   "id": "3690d27e",
   "metadata": {},
   "outputs": [],
   "source": [
    "import numpy as np\n",
    "import pandas as pd\n",
    "\n",
    "import scipy.stats as stats\n",
    "import statsmodels.api as sm\n",
    "from statsmodels.formula.api import ols\n",
    "\n",
    "import matplotlib.pyplot as plt\n",
    "import seaborn as sns"
   ]
  },
  {
   "cell_type": "code",
   "execution_count": 2,
   "id": "cd6e2cce",
   "metadata": {},
   "outputs": [
    {
     "data": {
      "text/html": [
       "<div>\n",
       "<style scoped>\n",
       "    .dataframe tbody tr th:only-of-type {\n",
       "        vertical-align: middle;\n",
       "    }\n",
       "\n",
       "    .dataframe tbody tr th {\n",
       "        vertical-align: top;\n",
       "    }\n",
       "\n",
       "    .dataframe thead th {\n",
       "        text-align: right;\n",
       "    }\n",
       "</style>\n",
       "<table border=\"1\" class=\"dataframe\">\n",
       "  <thead>\n",
       "    <tr style=\"text-align: right;\">\n",
       "      <th></th>\n",
       "      <th>name</th>\n",
       "      <th>gender</th>\n",
       "      <th>major</th>\n",
       "      <th>quiz_grade_before</th>\n",
       "      <th>quiz_grade_after</th>\n",
       "      <th>visits_tutor</th>\n",
       "    </tr>\n",
       "  </thead>\n",
       "  <tbody>\n",
       "    <tr>\n",
       "      <th>0</th>\n",
       "      <td>Jeffrey Ryan</td>\n",
       "      <td>M</td>\n",
       "      <td>Science</td>\n",
       "      <td>22.876882</td>\n",
       "      <td>76.988678</td>\n",
       "      <td>N</td>\n",
       "    </tr>\n",
       "    <tr>\n",
       "      <th>1</th>\n",
       "      <td>Clara Martinez</td>\n",
       "      <td>F</td>\n",
       "      <td>Science</td>\n",
       "      <td>51.736467</td>\n",
       "      <td>66.506256</td>\n",
       "      <td>N</td>\n",
       "    </tr>\n",
       "    <tr>\n",
       "      <th>2</th>\n",
       "      <td>Sheryl Wiley</td>\n",
       "      <td>F</td>\n",
       "      <td>Social Studies</td>\n",
       "      <td>40.633207</td>\n",
       "      <td>56.385129</td>\n",
       "      <td>N</td>\n",
       "    </tr>\n",
       "    <tr>\n",
       "      <th>3</th>\n",
       "      <td>William Hurdle</td>\n",
       "      <td>M</td>\n",
       "      <td>Art</td>\n",
       "      <td>14.534153</td>\n",
       "      <td>68.586033</td>\n",
       "      <td>N</td>\n",
       "    </tr>\n",
       "    <tr>\n",
       "      <th>4</th>\n",
       "      <td>Maria Ruiz</td>\n",
       "      <td>F</td>\n",
       "      <td>Medicine</td>\n",
       "      <td>76.286583</td>\n",
       "      <td>65.419909</td>\n",
       "      <td>Y</td>\n",
       "    </tr>\n",
       "  </tbody>\n",
       "</table>\n",
       "</div>"
      ],
      "text/plain": [
       "             name gender           major  quiz_grade_before  quiz_grade_after  \\\n",
       "0    Jeffrey Ryan      M         Science          22.876882         76.988678   \n",
       "1  Clara Martinez      F         Science          51.736467         66.506256   \n",
       "2    Sheryl Wiley      F  Social Studies          40.633207         56.385129   \n",
       "3  William Hurdle      M             Art          14.534153         68.586033   \n",
       "4      Maria Ruiz      F        Medicine          76.286583         65.419909   \n",
       "\n",
       "  visits_tutor  \n",
       "0            N  \n",
       "1            N  \n",
       "2            N  \n",
       "3            N  \n",
       "4            Y  "
      ]
     },
     "execution_count": 2,
     "metadata": {},
     "output_type": "execute_result"
    }
   ],
   "source": [
    "# import dataframe\n",
    "df = pd.read_csv('student_grades_df.csv')\n",
    "\n",
    "df = df.rename(columns={\n",
    "    'visits tutor' : 'visits_tutor',\n",
    "    'quiz grade before': 'quiz_grade_before',\n",
    "    'quiz grade after': 'quiz_grade_after'\n",
    "})\n",
    "\n",
    "df.head()"
   ]
  },
  {
   "cell_type": "markdown",
   "id": "89dc57ae",
   "metadata": {},
   "source": [
    "I created the above dataframe in a different jupyter notebook in this folder, generate_fake_database."
   ]
  },
  {
   "cell_type": "markdown",
   "id": "b20c0af6",
   "metadata": {},
   "source": [
    "## t-test"
   ]
  },
  {
   "cell_type": "markdown",
   "id": "4a121fb5",
   "metadata": {},
   "source": [
    "### One-sample"
   ]
  },
  {
   "cell_type": "markdown",
   "id": "8d904bb6",
   "metadata": {},
   "source": [
    "Is the mean of quiz scores before the holiday break for my students equivalent to the population mean score of 65?"
   ]
  },
  {
   "cell_type": "code",
   "execution_count": 3,
   "id": "5fcb74fe",
   "metadata": {},
   "outputs": [
    {
     "name": "stdout",
     "output_type": "stream",
     "text": [
      "Ttest_1sampResult(statistic=-32.95370110886327, pvalue=8.676677573247597e-162) \n",
      "\n",
      "Mean value of my students' quiz scores before the holiday break differs from given value\n"
     ]
    }
   ],
   "source": [
    "# Perform t-test and print result\n",
    "pop_mean = 65\n",
    "t_result=stats.ttest_1samp(df.quiz_grade_before, pop_mean)\n",
    "print(t_result, '\\n')\n",
    "\n",
    "# Test significance\n",
    "alpha = 0.05\n",
    "if (t_result[1] < alpha):\n",
    "    print(\"Mean value of my students' quiz scores before the holiday break differs from given value\")\n",
    "else:\n",
    "    print(\"No significant difference found\")"
   ]
  },
  {
   "cell_type": "markdown",
   "id": "84262ee3",
   "metadata": {},
   "source": [
    "This makes sense because I generated the 'before grades' with a Gaussian curve with a mean of 50."
   ]
  },
  {
   "cell_type": "markdown",
   "id": "5f809769",
   "metadata": {},
   "source": [
    "### Paired "
   ]
  },
  {
   "cell_type": "markdown",
   "id": "b1e2fb81",
   "metadata": {},
   "source": [
    "Is there a difference in quiz grades before and after the holiday break?"
   ]
  },
  {
   "cell_type": "code",
   "execution_count": 4,
   "id": "40fb4d43",
   "metadata": {},
   "outputs": [
    {
     "name": "stdout",
     "output_type": "stream",
     "text": [
      "Ttest_relResult(statistic=-22.11937683130149, pvalue=1.4846875981921535e-88) \n",
      "\n",
      "The is different in quiz grades taken before and after the holiday break\n"
     ]
    }
   ],
   "source": [
    "# Create two arrays\n",
    "quiz_grades_before = df.quiz_grade_before\n",
    "quiz_grades_after = df.quiz_grade_after\n",
    "\n",
    "# Perform the paired t-test\n",
    "t_result= stats.ttest_rel(quiz_grades_before, quiz_grades_after)\n",
    "print(t_result, '\\n')\n",
    "\n",
    "# Test significance\n",
    "alpha= 0.05\n",
    "if (t_result[1] < alpha):\n",
    "    print(\"The is different in quiz grades taken before and after the holiday break\")\n",
    "else: \n",
    "    print(\"No significant difference found\")"
   ]
  },
  {
   "cell_type": "markdown",
   "id": "6adbdfcb",
   "metadata": {},
   "source": [
    "This makes sense because I generated the two quiz grade columns with different Gaussian curves."
   ]
  },
  {
   "cell_type": "markdown",
   "id": "6d35daf6",
   "metadata": {},
   "source": [
    "### Two-sample"
   ]
  },
  {
   "cell_type": "markdown",
   "id": "2bcc3f7f",
   "metadata": {},
   "source": [
    "Is the mean of quiz scores before the holiday break different between my students that visit the tutor?"
   ]
  },
  {
   "cell_type": "code",
   "execution_count": 5,
   "id": "93ff8272",
   "metadata": {},
   "outputs": [
    {
     "name": "stdout",
     "output_type": "stream",
     "text": [
      "Ttest_indResult(statistic=-9.980920004404977, pvalue=1.9948225148132737e-22) \n",
      "\n",
      "The student that visit the tutor have different grades compared to the ones that don't\n"
     ]
    }
   ],
   "source": [
    "# Create two arrays\n",
    "y_tutor_quiz_grades = df[df.visits_tutor == \"Y\"].quiz_grade_before\n",
    "n_tutor_quiz_grades = df[df.visits_tutor == \"N\"].quiz_grade_after\n",
    "\n",
    "# Perform the two-sample t-test\n",
    "t_result= stats.ttest_ind(y_tutor_quiz_grades, n_tutor_quiz_grades)\n",
    "print(t_result, '\\n')\n",
    "\n",
    "# Test significance\n",
    "alpha= 0.05\n",
    "if (t_result[1] < alpha):\n",
    "    print(\"The student that visit the tutor have different grades compared to the ones that don't\")\n",
    "else: \n",
    "    print(\"No significant difference found\")"
   ]
  },
  {
   "cell_type": "markdown",
   "id": "c6251049",
   "metadata": {},
   "source": [
    "This makes sense because I generated the tutor column last and the distribution of values shouldn't be different unless random chance went wild (only 15% of the students visit the tutor)."
   ]
  },
  {
   "cell_type": "markdown",
   "id": "7579f7b4",
   "metadata": {},
   "source": [
    "## ANOVA"
   ]
  },
  {
   "cell_type": "code",
   "execution_count": 6,
   "id": "b770fdd8",
   "metadata": {},
   "outputs": [],
   "source": [
    "# list of majors that we will use for the ANOVA tests\n",
    "majors_list = ['Science', 'Technology', 'Medicine', 'Social Studies',\n",
    "          'History', 'English', 'Foreign Language', 'Business',\n",
    "          'Engineering', 'Art']"
   ]
  },
  {
   "cell_type": "markdown",
   "id": "40a8a108",
   "metadata": {},
   "source": [
    "### One-way"
   ]
  },
  {
   "cell_type": "markdown",
   "id": "d6ac0477",
   "metadata": {},
   "source": [
    "Are the quiz grades before the holiday break different in relation the students' majors?"
   ]
  },
  {
   "cell_type": "code",
   "execution_count": 7,
   "id": "f66e6b25",
   "metadata": {},
   "outputs": [
    {
     "name": "stdout",
     "output_type": "stream",
     "text": [
      "F_onewayResult(statistic=1.6927354308156108, pvalue=0.08632056518640834) \n",
      "\n",
      "No significant difference found\n"
     ]
    }
   ],
   "source": [
    "def quiz_grade_per_major(df, major_name):\n",
    "    return df[df.major == major_name].quiz_grade_before\n",
    "\n",
    "# Create quiz grades list per major into one dictionary\n",
    "quiz_grades = {\n",
    "    major : quiz_grade_per_major(df, major)\n",
    "    for major in majors_list}\n",
    "\n",
    "# Perform the one-way ANOVA test\n",
    "f_result= stats.f_oneway(\n",
    "    quiz_grades['Science'], quiz_grades['Technology'], \n",
    "    quiz_grades['Medicine'], quiz_grades['Social Studies'], \n",
    "    quiz_grades['History'], quiz_grades['English'], \n",
    "    quiz_grades['Foreign Language'], quiz_grades['Business'], \n",
    "    quiz_grades['Engineering'], quiz_grades['Art']\n",
    ")\n",
    "print(f_result, '\\n')\n",
    "\n",
    "# Test significance\n",
    "alpha= 0.05\n",
    "if (f_result[1] < alpha):\n",
    "    print(\"There is a different in quiz grades when comparing students' majors\")\n",
    "else: \n",
    "    print(\"No significant difference found\")"
   ]
  },
  {
   "cell_type": "markdown",
   "id": "0128a620",
   "metadata": {},
   "source": [
    "This also makes sense because majors were assigned before test scores, so they should all be distributed similarly. Below, I have plotted all the distributions, and via the eye test, they do all look roughly the same."
   ]
  },
  {
   "cell_type": "code",
   "execution_count": 8,
   "id": "a11eac84",
   "metadata": {},
   "outputs": [
    {
     "data": {
      "image/png": "[encoded data removed]",
      "text/plain": [
       "<Figure size 432x288 with 1 Axes>"
      ]
     },
     "metadata": {
      "needs_background": "light"
     },
     "output_type": "display_data"
    }
   ],
   "source": [
    "color_code = sns.color_palette()\n",
    "\n",
    "for i, major in enumerate(majors_list):\n",
    "    sns.histplot(quiz_grades[major], color=color_code[i])\n",
    "\n",
    "plt.show()"
   ]
  },
  {
   "cell_type": "markdown",
   "id": "c5d3eae0",
   "metadata": {},
   "source": [
    "### Two-way"
   ]
  },
  {
   "cell_type": "markdown",
   "id": "f0aa787a",
   "metadata": {},
   "source": [
    "Are the quiz grades before the holiday break different in relation the students' majors and genders?"
   ]
  },
  {
   "cell_type": "code",
   "execution_count": 9,
   "id": "0f8b6573",
   "metadata": {},
   "outputs": [
    {
     "name": "stdout",
     "output_type": "stream",
     "text": [
      "                       df         sum_sq     mean_sq         F    PR(>F)\n",
      "C(major)              9.0    3143.150597  349.238955  1.706109  0.083280\n",
      "C(gender)             2.0      16.853521    8.426760  0.041167  0.959671\n",
      "C(major):C(gender)   18.0    5301.916383  294.550910  1.438946  0.105098\n",
      "Residual            972.0  198967.457960  204.699031       NaN       NaN \n",
      "\n",
      "No significant difference found\n"
     ]
    }
   ],
   "source": [
    "# Performing two-way ANOVA\n",
    "model = ols('quiz_grade_before ~ C(major) + C(gender) +\\\n",
    "            C(major):C(gender)', \n",
    "            data=df).fit()\n",
    "f_result = sm.stats.anova_lm(model, type=2)\n",
    "  \n",
    "# Print the result\n",
    "print(f_result, '\\n')\n",
    "\n",
    "# Test significance\n",
    "p_value = f_result['PR(>F)']['C(major):C(gender)']\n",
    "alpha= 0.05\n",
    "if (p_value < alpha):\n",
    "    print(\"There is a different in quiz grades when \\\n",
    "            comparing students' majors and genders\")\n",
    "else: \n",
    "    print(\"No significant difference found\")"
   ]
  },
  {
   "cell_type": "markdown",
   "id": "7078c999",
   "metadata": {},
   "source": [
    "It is interesting that major has a much lower p-value when compared to gender."
   ]
  },
  {
   "cell_type": "markdown",
   "id": "d18224bd",
   "metadata": {},
   "source": [
    "### N-way"
   ]
  },
  {
   "cell_type": "markdown",
   "id": "7be940de",
   "metadata": {},
   "source": [
    "Are the quiz grades before the holiday break different in relation the students' majors and genders, and whether they visit the tutor?"
   ]
  },
  {
   "cell_type": "code",
   "execution_count": 10,
   "id": "9bbde70a",
   "metadata": {},
   "outputs": [
    {
     "name": "stdout",
     "output_type": "stream",
     "text": [
      "                                       df         sum_sq     mean_sq  \\\n",
      "C(major)                              9.0    3143.150597  349.238955   \n",
      "C(gender)                             2.0      16.853521    8.426760   \n",
      "C(visits_tutor)                       1.0       9.797215    9.797215   \n",
      "C(major):C(gender):C(visits_tutor)   47.0   10401.402254  221.306431   \n",
      "Residual                            951.0  194738.417997  204.772259   \n",
      "\n",
      "                                           F    PR(>F)  \n",
      "C(major)                            1.705499  0.083454  \n",
      "C(gender)                           0.041152  0.959685  \n",
      "C(visits_tutor)                     0.047844  0.826904  \n",
      "C(major):C(gender):C(visits_tutor)  1.080744  0.331739  \n",
      "Residual                                 NaN       NaN   \n",
      "\n",
      "No significant difference found\n"
     ]
    }
   ],
   "source": [
    "# Performing N-way ANOVA\n",
    "model = ols('quiz_grade_before ~ C(major) + C(gender) +\\\n",
    "            C(visits_tutor) + C(major):C(gender):C(visits_tutor)', \n",
    "            data=df).fit()\n",
    "f_result = sm.stats.anova_lm(model, type=2)\n",
    "  \n",
    "# Print the result\n",
    "print(f_result, '\\n')\n",
    "\n",
    "# Test significance\n",
    "p_value = f_result['PR(>F)']['C(major):C(gender):C(visits_tutor)']\n",
    "alpha= 0.05\n",
    "if (p_value < alpha):\n",
    "    print(\"There is a different in quiz grades when \\\n",
    "            comparing students' majors and genders \\\n",
    "            and whether they visited a tutor\")\n",
    "else: \n",
    "    print(\"No significant difference found\")"
   ]
  },
  {
   "cell_type": "markdown",
   "id": "43405e8c",
   "metadata": {},
   "source": [
    "I think it is still interesting that major has a much lower p-value than the other topics, and it must have to do with there being so many majors."
   ]
  },
  {
   "cell_type": "markdown",
   "id": "f6b9b36a",
   "metadata": {},
   "source": [
    "## $\\chi^{2}$ (Chi-squared)"
   ]
  },
  {
   "cell_type": "markdown",
   "id": "c7cd8292",
   "metadata": {},
   "source": [
    "### Goodness-of-Fit (GoF)"
   ]
  },
  {
   "cell_type": "markdown",
   "id": "050c9a7f",
   "metadata": {},
   "source": [
    "Is there a difference between the observed and expected distribution of students majors?"
   ]
  },
  {
   "cell_type": "code",
   "execution_count": 11,
   "id": "ac8210d6",
   "metadata": {},
   "outputs": [
    {
     "name": "stdout",
     "output_type": "stream",
     "text": [
      "chi_square_test_statistic is: 8.24\n",
      "p_value: 0.5101527978730556\n",
      "Chi-Square critical value is: 12.591587243743977 \n",
      "\n",
      "No significant difference found\n"
     ]
    }
   ],
   "source": [
    "# observed student majors\n",
    "df['count'] = 1\n",
    "observed_majors = df.groupby('major').count()['count']\n",
    "observed_majors = [count for count in observed_majors]\n",
    "# student majors should be evenly weighted\n",
    "expected_majors = [100 for i in range(10)]\n",
    "  \n",
    "# Chi-Square Goodness of Fit Test\n",
    "chi_square_test_statistic, p_value = stats.chisquare(\n",
    "    observed_majors, expected_majors)\n",
    "  \n",
    "# chi square test statistic and p value\n",
    "print('chi_square_test_statistic is: ' +\n",
    "      str(chi_square_test_statistic))\n",
    "print('p_value: ' + str(p_value))\n",
    "  \n",
    "# find Chi-Square critical value\n",
    "print('Chi-Square critical value is:', \n",
    "      stats.chi2.ppf(1-0.05, df=6), '\\n')\n",
    "\n",
    "# Test significance\n",
    "alpha= 0.05\n",
    "if (p_value < alpha):\n",
    "    print(\"There is a different in quiz grades when \\\n",
    "            comparing students' majors and genders \\\n",
    "            and whether they visited a tutor\")\n",
    "else: \n",
    "    print(\"No significant difference found\")"
   ]
  },
  {
   "cell_type": "markdown",
   "id": "3f4f29b6",
   "metadata": {},
   "source": []
  },
  {
   "cell_type": "markdown",
   "id": "585bae5b",
   "metadata": {},
   "source": [
    "### Independent Test"
   ]
  },
  {
   "cell_type": "markdown",
   "id": "e6207925",
   "metadata": {},
   "source": [
    "Is there an association with the student's gender and major?"
   ]
  },
  {
   "cell_type": "code",
   "execution_count": 12,
   "id": "cc28a975",
   "metadata": {},
   "outputs": [
    {
     "name": "stdout",
     "output_type": "stream",
     "text": [
      "chi^2 test statistic = 10.485026121278155, p = 0.9149198202356327, DoF = 18  \n",
      " expected frequencies = \n",
      " [[46.716 53.652  1.632]\n",
      " [41.22  47.34   1.44 ]\n",
      " [49.922 57.334  1.744]\n",
      " [44.884 51.548  1.568]\n",
      " [44.884 51.548  1.568]\n",
      " [47.632 54.704  1.664]\n",
      " [37.098 42.606  1.296]\n",
      " [52.212 59.964  1.824]\n",
      " [49.006 56.282  1.712]\n",
      " [44.426 51.022  1.552]] \n",
      "\n",
      "No significant difference found\n"
     ]
    }
   ],
   "source": [
    "# create simple cross tabulation\n",
    "crosstab = pd.crosstab(df[\"major\"], df[\"gender\"])\n",
    "\n",
    "# Performing chi-square independent test in contingency table\n",
    "chi2, p_value, dof, ex = stats.chi2_contingency(crosstab)\n",
    "\n",
    "# Print result\n",
    "print(f'chi^2 test statistic = {chi2}, p = {p_value}, DoF = {dof} ',\n",
    "      '\\n', f'expected frequencies = \\n {ex}', '\\n')\n",
    "\n",
    "# Test significance\n",
    "alpha= 0.05\n",
    "if (p_value < alpha):\n",
    "    print(\"There is a different in quiz grades when \\\n",
    "            comparing students' majors and genders \\\n",
    "            and whether they visited a tutor\")\n",
    "else: \n",
    "    print(\"No significant difference found\")"
   ]
  },
  {
   "cell_type": "markdown",
   "id": "3d5a9969",
   "metadata": {},
   "source": [
    "I have three genders: male, female, and non-binary. The expected frequencies should be 0.49, 0.49, and 0.02, respectively. The chi^2 test seems to think that many majors should have more female students registered for them."
   ]
  },
  {
   "cell_type": "markdown",
   "id": "0847fb80",
   "metadata": {},
   "source": [
    "I could have put more work into making the test scores depend on things like gender, major, and tutor visits, but I more or less just wanted a dataframe to show off my skills with."
   ]
  },
  {
   "cell_type": "code",
   "execution_count": null,
   "id": "3752a0df",
   "metadata": {},
   "outputs": [],
   "source": []
  }
 ],
 "metadata": {
  "kernelspec": {
   "display_name": "Python 3 (ipykernel)",
   "language": "python",
   "name": "python3"
  },
  "language_info": {
   "codemirror_mode": {
    "name": "ipython",
    "version": 3
   },
   "file_extension": ".py",
   "mimetype": "text/x-python",
   "name": "python",
   "nbconvert_exporter": "python",
   "pygments_lexer": "ipython3",
   "version": "3.9.2"
  }
 },
 "nbformat": 4,
 "nbformat_minor": 5
}
