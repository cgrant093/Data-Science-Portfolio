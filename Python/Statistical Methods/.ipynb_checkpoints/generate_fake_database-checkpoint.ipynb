{
 "cells": [
  {
   "cell_type": "markdown",
   "id": "5925620f",
   "metadata": {},
   "source": [
    "# Make fake DataFrame for statistical tests"
   ]
  },
  {
   "cell_type": "markdown",
   "id": "1a94ce36",
   "metadata": {},
   "source": [
    "#### Import necessary dependencies"
   ]
  },
  {
   "cell_type": "code",
   "execution_count": 17,
   "id": "0464e6dc",
   "metadata": {},
   "outputs": [],
   "source": [
    "import numpy as np\n",
    "import pandas as pd\n",
    "import scipy.stats as stats\n",
    "\n",
    "import names\n",
    "import matplotlib.pyplot as plt\n",
    "import seaborn as sns"
   ]
  },
  {
   "cell_type": "code",
   "execution_count": 11,
   "id": "aa883127",
   "metadata": {},
   "outputs": [],
   "source": [
    "df = pd.DataFrame()\n",
    "\n",
    "n = 1000\n",
    "\n",
    "# generate a random list of majors\n",
    "major_choice = ['Science', 'Technology', 'Medicine', 'Social Studies',\n",
    "          'History', 'English', 'Foreign Language', 'Business',\n",
    "          'Engineering', 'Art']\n",
    "df['major'] = np.random.choice(major_choice, n)\n",
    "\n",
    "# generate a random set of genders\n",
    "gender_choice = ['M', 'F', 'NB']\n",
    "gender_weight = [0.49, 0.49, 0.02]\n",
    "\n",
    "genders = np.random.choice(gender_choice, n, p=gender_weight)\n",
    "df['gender'] = genders"
   ]
  },
  {
   "cell_type": "code",
   "execution_count": 14,
   "id": "3b53e46f",
   "metadata": {},
   "outputs": [],
   "source": [
    "# generate a random name based on the gender\n",
    "def gen_name(gender):\n",
    "    if gender == 'M':\n",
    "        return names.get_full_name(gender='male')\n",
    "    elif gender == 'F':\n",
    "        return names.get_full_name(gender='female')\n",
    "    return names.get_full_name()\n",
    "\n",
    "df['name'] = [gen_name(gender) for gender in genders]\n",
    "\n",
    "df = df[['name', 'gender', 'major']]"
   ]
  },
  {
   "cell_type": "code",
   "execution_count": 29,
   "id": "dbd323c2",
   "metadata": {},
   "outputs": [],
   "source": [
    "def limit_max_min_grade(quiz_grades):\n",
    "    quiz_grades = [\n",
    "        100 if grade > 100 else grade\n",
    "        for grade in quiz_grades]\n",
    "    quiz_grades = [\n",
    "        0 if grade < 0 else grade\n",
    "        for grade in quiz_grades]\n",
    "    return quiz_grades\n",
    "\n",
    "# generate quiz grades before holiday\n",
    "quiz_grades_before = limit_max_min_grade(\n",
    "    np.random.normal(50, 15, n))\n",
    "\n",
    "# generate quiz retake grades after holiday\n",
    "quiz_grades_after = limit_max_min_grade(\n",
    "    np.random.normal(70, 25, n))\n",
    "\n",
    "df['quiz grade before'] = quiz_grades_before\n",
    "df['quiz grade after'] = quiz_grades_after"
   ]
  },
  {
   "cell_type": "code",
   "execution_count": 31,
   "id": "113f2ca6",
   "metadata": {},
   "outputs": [],
   "source": [
    "# generates if they visit the tutor frequently\n",
    "visits_tutor = ['Y', 'N']\n",
    "tutor_weight = [0.15, 0.85]\n",
    "df['visits tutor'] = np.random.choice(visits_tutor, n, p=tutor_weight)"
   ]
  },
  {
   "cell_type": "code",
   "execution_count": 33,
   "id": "9b7df260",
   "metadata": {},
   "outputs": [
    {
     "data": {
      "text/html": [
       "<div>\n",
       "<style scoped>\n",
       "    .dataframe tbody tr th:only-of-type {\n",
       "        vertical-align: middle;\n",
       "    }\n",
       "\n",
       "    .dataframe tbody tr th {\n",
       "        vertical-align: top;\n",
       "    }\n",
       "\n",
       "    .dataframe thead th {\n",
       "        text-align: right;\n",
       "    }\n",
       "</style>\n",
       "<table border=\"1\" class=\"dataframe\">\n",
       "  <thead>\n",
       "    <tr style=\"text-align: right;\">\n",
       "      <th></th>\n",
       "      <th>name</th>\n",
       "      <th>gender</th>\n",
       "      <th>major</th>\n",
       "      <th>quiz grade before</th>\n",
       "      <th>quiz grade after</th>\n",
       "      <th>visits tutor</th>\n",
       "    </tr>\n",
       "  </thead>\n",
       "  <tbody>\n",
       "    <tr>\n",
       "      <th>0</th>\n",
       "      <td>Jeffrey Ryan</td>\n",
       "      <td>M</td>\n",
       "      <td>Science</td>\n",
       "      <td>22.876882</td>\n",
       "      <td>76.988678</td>\n",
       "      <td>N</td>\n",
       "    </tr>\n",
       "    <tr>\n",
       "      <th>1</th>\n",
       "      <td>Clara Martinez</td>\n",
       "      <td>F</td>\n",
       "      <td>Science</td>\n",
       "      <td>51.736467</td>\n",
       "      <td>66.506256</td>\n",
       "      <td>N</td>\n",
       "    </tr>\n",
       "    <tr>\n",
       "      <th>2</th>\n",
       "      <td>Sheryl Wiley</td>\n",
       "      <td>F</td>\n",
       "      <td>Social Studies</td>\n",
       "      <td>40.633207</td>\n",
       "      <td>56.385129</td>\n",
       "      <td>N</td>\n",
       "    </tr>\n",
       "    <tr>\n",
       "      <th>3</th>\n",
       "      <td>William Hurdle</td>\n",
       "      <td>M</td>\n",
       "      <td>Art</td>\n",
       "      <td>14.534153</td>\n",
       "      <td>68.586033</td>\n",
       "      <td>N</td>\n",
       "    </tr>\n",
       "    <tr>\n",
       "      <th>4</th>\n",
       "      <td>Maria Ruiz</td>\n",
       "      <td>F</td>\n",
       "      <td>Medicine</td>\n",
       "      <td>76.286583</td>\n",
       "      <td>65.419909</td>\n",
       "      <td>Y</td>\n",
       "    </tr>\n",
       "  </tbody>\n",
       "</table>\n",
       "</div>"
      ],
      "text/plain": [
       "             name gender           major  quiz grade before  quiz grade after  \\\n",
       "0    Jeffrey Ryan      M         Science          22.876882         76.988678   \n",
       "1  Clara Martinez      F         Science          51.736467         66.506256   \n",
       "2    Sheryl Wiley      F  Social Studies          40.633207         56.385129   \n",
       "3  William Hurdle      M             Art          14.534153         68.586033   \n",
       "4      Maria Ruiz      F        Medicine          76.286583         65.419909   \n",
       "\n",
       "  visits tutor  \n",
       "0            N  \n",
       "1            N  \n",
       "2            N  \n",
       "3            N  \n",
       "4            Y  "
      ]
     },
     "execution_count": 33,
     "metadata": {},
     "output_type": "execute_result"
    }
   ],
   "source": [
    "df.head()"
   ]
  },
  {
   "cell_type": "code",
   "execution_count": 34,
   "id": "5a1f3add",
   "metadata": {},
   "outputs": [],
   "source": [
    "df.to_csv(f'student_grades_df.csv', index=False)"
   ]
  },
  {
   "cell_type": "code",
   "execution_count": null,
   "id": "d2799c3d",
   "metadata": {},
   "outputs": [],
   "source": []
  }
 ],
 "metadata": {
  "kernelspec": {
   "display_name": "Python 3 (ipykernel)",
   "language": "python",
   "name": "python3"
  },
  "language_info": {
   "codemirror_mode": {
    "name": "ipython",
    "version": 3
   },
   "file_extension": ".py",
   "mimetype": "text/x-python",
   "name": "python",
   "nbconvert_exporter": "python",
   "pygments_lexer": "ipython3",
   "version": "3.9.2"
  }
 },
 "nbformat": 4,
 "nbformat_minor": 5
}
